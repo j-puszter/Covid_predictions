{
 "cells": [
  {
   "cell_type": "code",
   "execution_count": 138,
   "id": "484f5ca0-e1d5-4a1d-a1ba-20bfaf651cf7",
   "metadata": {},
   "outputs": [],
   "source": [
    "import pandas as pd\n",
    "import numpy as np\n",
    "import matplotlib.pyplot as plt\n",
    "from matplotlib.pyplot import figure\n",
    "from datetime import datetime\n",
    "import matplotlib.dates as mdates\n",
    "import matplotlib"
   ]
  },
  {
   "cell_type": "code",
   "execution_count": 160,
   "id": "abb7c855-2032-4df8-902c-a97d92a8fd77",
   "metadata": {},
   "outputs": [],
   "source": [
    "df = pd.read_csv(\n",
    "    \"https://raw.githubusercontent.com/Institut-Zdravotnych-Analyz/covid19-data/main/Hospitals/OpenData_Slovakia_Covid_Hospital_ALL.csv\",\n",
    "    delimiter=\";\", usecols=[\"Datum\",\"Kraj\",\"Okres\",\"Nemocnica\",\"KodPZS\",\"Obsadene_covid_lozka\",\"Plucna_vent_lozka\",\"Suspektni_JIS_OAIM\",\"Potvrdeni_JIS_OAIM\",\"hospitalizovany\"])\n"
   ]
  },
  {
   "cell_type": "code",
   "execution_count": 163,
   "id": "0d4d01b2-e39e-435c-9df4-5a40513583c7",
   "metadata": {},
   "outputs": [],
   "source": [
    "res = df[[\"Datum\", \"hospitalizovany\"]]\n",
    "\n",
    "res.to_csv(\"hospitalizacie.csv\", index=False)"
   ]
  },
  {
   "cell_type": "code",
   "execution_count": 164,
   "id": "43821bcd-1b90-4a22-8c1e-707aee4d5440",
   "metadata": {},
   "outputs": [
    {
     "data": {
      "image/png": "[encoded data removed]",
      "text/plain": [
       "<Figure size 1080x360 with 1 Axes>"
      ]
     },
     "metadata": {
      "needs_background": "light"
     },
     "output_type": "display_data"
    }
   ],
   "source": [
    "dates = [datetime.strptime(d,\"%Y-%m-%d\").date() for d in res['Datum']]\n",
    "hosp = np.array(res[\"hospitalizovany\"])\n",
    "\n",
    "fig = plt.figure()\n",
    "ax = fig.add_axes([0,0,1,1])\n",
    "ax.bar(dates, hosp)\n",
    "plt.xlabel(\"datum\")\n",
    "plt.ylabel(\"hospitalizacie\")\n",
    "plt.show()"
   ]
  },
  {
   "cell_type": "code",
   "execution_count": 165,
   "id": "63e715df-d8dd-43fc-8f5c-fa832082d969",
   "metadata": {},
   "outputs": [
    {
     "data": {
      "text/html": [
       "<div>\n",
       "<style scoped>\n",
       "    .dataframe tbody tr th:only-of-type {\n",
       "        vertical-align: middle;\n",
       "    }\n",
       "\n",
       "    .dataframe tbody tr th {\n",
       "        vertical-align: top;\n",
       "    }\n",
       "\n",
       "    .dataframe thead th {\n",
       "        text-align: right;\n",
       "    }\n",
       "</style>\n",
       "<table border=\"1\" class=\"dataframe\">\n",
       "  <thead>\n",
       "    <tr style=\"text-align: right;\">\n",
       "      <th></th>\n",
       "      <th>Datum</th>\n",
       "      <th>hospitalizovany</th>\n",
       "    </tr>\n",
       "  </thead>\n",
       "  <tbody>\n",
       "    <tr>\n",
       "      <th>0</th>\n",
       "      <td>2020-04-30</td>\n",
       "      <td>0</td>\n",
       "    </tr>\n",
       "    <tr>\n",
       "      <th>1</th>\n",
       "      <td>2020-04-30</td>\n",
       "      <td>0</td>\n",
       "    </tr>\n",
       "    <tr>\n",
       "      <th>2</th>\n",
       "      <td>2020-04-30</td>\n",
       "      <td>1</td>\n",
       "    </tr>\n",
       "    <tr>\n",
       "      <th>3</th>\n",
       "      <td>2020-04-30</td>\n",
       "      <td>0</td>\n",
       "    </tr>\n",
       "    <tr>\n",
       "      <th>4</th>\n",
       "      <td>2020-04-30</td>\n",
       "      <td>0</td>\n",
       "    </tr>\n",
       "    <tr>\n",
       "      <th>...</th>\n",
       "      <td>...</td>\n",
       "      <td>...</td>\n",
       "    </tr>\n",
       "    <tr>\n",
       "      <th>71769</th>\n",
       "      <td>2021-12-05</td>\n",
       "      <td>3416</td>\n",
       "    </tr>\n",
       "    <tr>\n",
       "      <th>71770</th>\n",
       "      <td>2021-12-06</td>\n",
       "      <td>3510</td>\n",
       "    </tr>\n",
       "    <tr>\n",
       "      <th>71771</th>\n",
       "      <td>2021-12-07</td>\n",
       "      <td>3491</td>\n",
       "    </tr>\n",
       "    <tr>\n",
       "      <th>71772</th>\n",
       "      <td>2021-12-08</td>\n",
       "      <td>3397</td>\n",
       "    </tr>\n",
       "    <tr>\n",
       "      <th>71773</th>\n",
       "      <td>2021-12-09</td>\n",
       "      <td>3398</td>\n",
       "    </tr>\n",
       "  </tbody>\n",
       "</table>\n",
       "<p>71774 rows × 2 columns</p>\n",
       "</div>"
      ],
      "text/plain": [
       "            Datum  hospitalizovany\n",
       "0      2020-04-30                0\n",
       "1      2020-04-30                0\n",
       "2      2020-04-30                1\n",
       "3      2020-04-30                0\n",
       "4      2020-04-30                0\n",
       "...           ...              ...\n",
       "71769  2021-12-05             3416\n",
       "71770  2021-12-06             3510\n",
       "71771  2021-12-07             3491\n",
       "71772  2021-12-08             3397\n",
       "71773  2021-12-09             3398\n",
       "\n",
       "[71774 rows x 2 columns]"
      ]
     },
     "execution_count": 165,
     "metadata": {},
     "output_type": "execute_result"
    }
   ],
   "source": [
    "res"
   ]
  },
  {
   "cell_type": "code",
   "execution_count": 171,
   "id": "9cec72de-8ead-41eb-8e8e-b9ab21a28859",
   "metadata": {},
   "outputs": [
    {
     "name": "stdout",
     "output_type": "stream",
     "text": [
      "Empty DataFrame\n",
      "Columns: [datum, hospitalizovany]\n",
      "Index: []\n"
     ]
    }
   ],
   "source": [
    "modifiedDataFrame = pd.DataFrame(columns=['datum', 'hospitalizovany'])\n",
    "print(modifiedDataFrame)"
   ]
  },
  {
   "cell_type": "code",
   "execution_count": 203,
   "id": "a28926ec-5f57-4f4d-87f3-44301f398f49",
   "metadata": {},
   "outputs": [],
   "source": [
    "datum = None\n",
    "hosp = 0\n",
    "for i in range(len(res)):\n",
    "    if datum == None:\n",
    "        datum = res.loc[i, \"Datum\"]\n",
    "    if datum != res.loc[i, \"Datum\"]:\n",
    "        modifiedDataFrame = modifiedDataFrame.append({'datum': datum, 'hospitalizovany': hosp}, ignore_index=True)\n",
    "        datum = res.loc[i, \"Datum\"]\n",
    "        hosp = 0\n",
    "    hosp += res.loc[i, \"hospitalizovany\"]\n",
    "    if i == len(res)-1:\n",
    "        modifiedDataFrame = modifiedDataFrame.append({'datum': datum, 'hospitalizovany': hosp}, ignore_index=True)"
   ]
  },
  {
   "cell_type": "code",
   "execution_count": 204,
   "id": "5b6bd6d2-f760-4aa6-937f-5f6e494a560e",
   "metadata": {},
   "outputs": [
    {
     "data": {
      "text/html": [
       "<div>\n",
       "<style scoped>\n",
       "    .dataframe tbody tr th:only-of-type {\n",
       "        vertical-align: middle;\n",
       "    }\n",
       "\n",
       "    .dataframe tbody tr th {\n",
       "        vertical-align: top;\n",
       "    }\n",
       "\n",
       "    .dataframe thead th {\n",
       "        text-align: right;\n",
       "    }\n",
       "</style>\n",
       "<table border=\"1\" class=\"dataframe\">\n",
       "  <thead>\n",
       "    <tr style=\"text-align: right;\">\n",
       "      <th></th>\n",
       "      <th>datum</th>\n",
       "      <th>hospitalizovany</th>\n",
       "    </tr>\n",
       "  </thead>\n",
       "  <tbody>\n",
       "    <tr>\n",
       "      <th>0</th>\n",
       "      <td>2020-04-30</td>\n",
       "      <td>51</td>\n",
       "    </tr>\n",
       "    <tr>\n",
       "      <th>1</th>\n",
       "      <td>2020-05-01</td>\n",
       "      <td>43</td>\n",
       "    </tr>\n",
       "    <tr>\n",
       "      <th>2</th>\n",
       "      <td>2020-05-02</td>\n",
       "      <td>41</td>\n",
       "    </tr>\n",
       "    <tr>\n",
       "      <th>3</th>\n",
       "      <td>2020-05-03</td>\n",
       "      <td>42</td>\n",
       "    </tr>\n",
       "    <tr>\n",
       "      <th>4</th>\n",
       "      <td>2020-05-04</td>\n",
       "      <td>38</td>\n",
       "    </tr>\n",
       "    <tr>\n",
       "      <th>...</th>\n",
       "      <td>...</td>\n",
       "      <td>...</td>\n",
       "    </tr>\n",
       "    <tr>\n",
       "      <th>9415</th>\n",
       "      <td>2021-12-05</td>\n",
       "      <td>3416</td>\n",
       "    </tr>\n",
       "    <tr>\n",
       "      <th>9416</th>\n",
       "      <td>2021-12-06</td>\n",
       "      <td>3510</td>\n",
       "    </tr>\n",
       "    <tr>\n",
       "      <th>9417</th>\n",
       "      <td>2021-12-07</td>\n",
       "      <td>3491</td>\n",
       "    </tr>\n",
       "    <tr>\n",
       "      <th>9418</th>\n",
       "      <td>2021-12-08</td>\n",
       "      <td>3397</td>\n",
       "    </tr>\n",
       "    <tr>\n",
       "      <th>9419</th>\n",
       "      <td>2021-12-09</td>\n",
       "      <td>3398</td>\n",
       "    </tr>\n",
       "  </tbody>\n",
       "</table>\n",
       "<p>9420 rows × 2 columns</p>\n",
       "</div>"
      ],
      "text/plain": [
       "           datum hospitalizovany\n",
       "0     2020-04-30              51\n",
       "1     2020-05-01              43\n",
       "2     2020-05-02              41\n",
       "3     2020-05-03              42\n",
       "4     2020-05-04              38\n",
       "...          ...             ...\n",
       "9415  2021-12-05            3416\n",
       "9416  2021-12-06            3510\n",
       "9417  2021-12-07            3491\n",
       "9418  2021-12-08            3397\n",
       "9419  2021-12-09            3398\n",
       "\n",
       "[9420 rows x 2 columns]"
      ]
     },
     "execution_count": 204,
     "metadata": {},
     "output_type": "execute_result"
    }
   ],
   "source": [
    "modifiedDataFrame"
   ]
  }
 ],
 "metadata": {
  "kernelspec": {
   "display_name": "Python 3",
   "language": "python",
   "name": "python3"
  },
  "language_info": {
   "codemirror_mode": {
    "name": "ipython",
    "version": 3
   },
   "file_extension": ".py",
   "mimetype": "text/x-python",
   "name": "python",
   "nbconvert_exporter": "python",
   "pygments_lexer": "ipython3",
   "version": "3.6.13"
  }
 },
 "nbformat": 4,
 "nbformat_minor": 5
}
